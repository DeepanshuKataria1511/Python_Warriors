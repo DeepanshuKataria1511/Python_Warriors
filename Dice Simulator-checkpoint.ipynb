{
 "cells": [
  {
   "cell_type": "code",
   "execution_count": null,
   "id": "843e003d",
   "metadata": {},
   "outputs": [],
   "source": [
    "import random\n",
    "\n",
    "print(\"Welcome to Dice Simulator\")\n",
    "\n",
    "contn=\"y\"\n",
    "\n",
    "while(contn==\"y\"):\n",
    "    n=random.randint(1,6)\n",
    "\n",
    "    if (n==1):\n",
    "        print(\"-----------\")\n",
    "        print(\"|         |\")\n",
    "        print(\"|    0    |\")\n",
    "        print(\"|         |\")\n",
    "        print(\"-----------\")\n",
    "\n",
    "    \n",
    "\n",
    "    elif (n==2):\n",
    "        print(\"-----------\")\n",
    "        print(\"|         |\")\n",
    "        print(\"|  0   0  |\")\n",
    "        print(\"|         |\")\n",
    "        print(\"-----------\")\n",
    "    \n",
    "    elif (n==3):\n",
    "        print(\"-----------\")\n",
    "        print(\"|    0    |\")\n",
    "        print(\"|    0    |\")\n",
    "        print(\"|    0    |\")\n",
    "        print(\"-----------\")\n",
    "\n",
    "\n",
    "    elif (n==4):\n",
    "        print(\"-----------\")\n",
    "        print(\"|  0   0  |\")\n",
    "        print(\"|         |\")\n",
    "        print(\"|  0   0  |\")\n",
    "        print(\"-----------\")\n",
    "\n",
    "\n",
    "    elif (n==5):\n",
    "        print(\"-----------\")\n",
    "        print(\"| 0     0 |\")\n",
    "        print(\"|    0    |\")\n",
    "        print(\"| 0     0 |\")\n",
    "        print(\"-----------\")\n",
    "\n",
    "\n",
    "    elif (n==6):\n",
    "        print(\"-----------\")\n",
    "        print(\"|  0   0  |\")\n",
    "        print(\"|  0   0  |\")\n",
    "        print(\"|  0   0  |\")\n",
    "        print(\"-----------\")\n",
    "    \n",
    "        contn=input(\"Do you want to continue ? (y/n) \")\n"
   ]
  },
  {
   "cell_type": "code",
   "execution_count": null,
   "id": "e720c631",
   "metadata": {},
   "outputs": [],
   "source": []
  },
  {
   "cell_type": "code",
   "execution_count": null,
   "id": "78e0adb6",
   "metadata": {},
   "outputs": [],
   "source": []
  },
  {
   "cell_type": "code",
   "execution_count": null,
   "id": "094a0868",
   "metadata": {},
   "outputs": [],
   "source": []
  }
 ],
 "metadata": {
  "kernelspec": {
   "display_name": "Python 3",
   "language": "python",
   "name": "python3"
  },
  "language_info": {
   "codemirror_mode": {
    "name": "ipython",
    "version": 3
   },
   "file_extension": ".py",
   "mimetype": "text/x-python",
   "name": "python",
   "nbconvert_exporter": "python",
   "pygments_lexer": "ipython3",
   "version": "3.8.8"
  }
 },
 "nbformat": 4,
 "nbformat_minor": 5
}
